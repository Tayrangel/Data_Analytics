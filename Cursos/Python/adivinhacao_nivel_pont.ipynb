{
 "cells": [
  {
   "cell_type": "code",
   "execution_count": 1,
   "metadata": {},
   "outputs": [
    {
     "name": "stdout",
     "output_type": "stream",
     "text": [
      "*****************\n",
      "Bem vindo ao jogo de Adivinhação\n",
      "*****************\n",
      "Qual nível de dificuldade?\n",
      "(1) Fácil (2) Médio (3) Difícil\n",
      "Tentativa 1 de 5\n",
      "Você digitou: 50\n",
      "Você Errou!O valor é maior que o número secreto.\n",
      "Tentativa 2 de 5\n",
      "Você digitou: 25\n",
      "Você Errou!O valor é maior que o número secreto.\n",
      "Tentativa 3 de 5\n",
      "Você digitou: 13\n",
      "Você Errou!O valor é maior que o número secreto.\n",
      "Tentativa 4 de 5\n",
      "Você digitou: 30\n",
      "Você Errou!O valor é maior que o número secreto.\n",
      "Tentativa 5 de 5\n",
      "Você digitou: 35\n",
      "Você Errou!O valor é maior que o número secreto.\n",
      "Fim do Jogo\n"
     ]
    }
   ],
   "source": [
    "import random\n",
    "\n",
    "def jogar():\n",
    "    print(\"*****************\")\n",
    "    print(\"Bem vindo ao jogo de Adivinhação\")\n",
    "    print(\"*****************\")\n",
    "\n",
    "    #Variáveis\n",
    "    numero_secreto = random.randrange(1, 101)\n",
    "    total_tentativas = 0\n",
    "    pontos = 1000\n",
    "\n",
    "    print(\"Qual nível de dificuldade?\")\n",
    "    print(\"(1) Fácil (2) Médio (3) Difícil\")\n",
    "\n",
    "    #Níveis\n",
    "    nivel = int(input(\"Define o nível:\"))\n",
    "\n",
    "    if(nivel == 1):\n",
    "        total_tentativas = 20\n",
    "    elif(nivel == 2):\n",
    "        total_tentativas = 10\n",
    "    else:\n",
    "        total_tentativas = 5\n",
    "\n",
    "    #Lógica for para o looping de rodadas\n",
    "    for rodada in range(1, total_tentativas + 1):\n",
    "        print(\"Tentativa {} de {}\".format(rodada, total_tentativas))\n",
    "        chute_str = input(\"Digite um número entre 1 e 100:\")\n",
    "        print(\"Você digitou:\", chute_str)\n",
    "        chute = int(chute_str)\n",
    "\n",
    "        if(chute < 1 or chute > 100):\n",
    "            print(\"Você deve digitar um número entre 1 e 100.\")\n",
    "            continue\n",
    "\n",
    "    #Acerto ou erro   \n",
    "        acertou = numero_secreto == chute\n",
    "        numero_maior = chute < numero_secreto\n",
    "        numero_menor = chute > numero_secreto\n",
    "\n",
    "        if(acertou):\n",
    "            print(\"Você Acertou e fez {} pontos\".format(pontos)) #Pontuação\n",
    "            break\n",
    "        else:\n",
    "            if(numero_maior):\n",
    "                print(\"Você Errou!O valor é maior que o número secreto.\")\n",
    "            elif(numero_menor):\n",
    "                print(\"Você Errou!O valor é menor que o número secreto.\")\n",
    "            pontos_perdidos = abs(numero_secreto - chute)\n",
    "            pontos = pontos - pontos_perdidos\n",
    "    print(\"Fim do Jogo\")\n",
    "\n",
    "if(__name__ == \"__main__\"):\n",
    "    jogar()"
   ]
  }
 ],
 "metadata": {
  "kernelspec": {
   "display_name": "Python 3",
   "language": "python",
   "name": "python3"
  },
  "language_info": {
   "codemirror_mode": {
    "name": "ipython",
    "version": 3
   },
   "file_extension": ".py",
   "mimetype": "text/x-python",
   "name": "python",
   "nbconvert_exporter": "python",
   "pygments_lexer": "ipython3",
   "version": "3.11.2"
  },
  "orig_nbformat": 4
 },
 "nbformat": 4,
 "nbformat_minor": 2
}
