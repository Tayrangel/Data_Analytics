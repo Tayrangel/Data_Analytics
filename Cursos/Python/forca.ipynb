{
 "cells": [
  {
   "cell_type": "code",
   "execution_count": 3,
   "metadata": {},
   "outputs": [
    {
     "name": "stdout",
     "output_type": "stream",
     "text": [
      "*****************\n",
      "Bem vindo ao jogo de Advinhação\n",
      "*****************\n",
      "Qual nível de dificuldade?\n",
      "(1) Fácil (2) Médio (3) Difícil\n",
      "Tentativa 1 de 10\n",
      "Você digitou: 50\n",
      "Você Errou!O valor é maior que o número secreto.\n",
      "Tentativa 2 de 10\n",
      "Você digitou: 80\n",
      "Você Errou!O valor é menor que o número secreto.\n",
      "Tentativa 3 de 10\n",
      "Você digitou: 75\n",
      "Você Errou!O valor é menor que o número secreto.\n",
      "Tentativa 4 de 10\n",
      "Você digitou: 59\n",
      "Você Errou!O valor é menor que o número secreto.\n",
      "Tentativa 5 de 10\n",
      "Você digitou: 55\n",
      "Você Acertou e fez 946 pontos\n",
      "Fim do Jogo\n"
     ]
    }
   ],
   "source": [
    "def jogar():\n",
    "    print(\"*****************\")\n",
    "    print(\"Bem vindo ao jogo da forca!\")\n",
    "    print(\"*****************\")\n",
    "\n",
    "    print(\"Fim do jogo...\")\n",
    "\n",
    "if(__name__ == \"__main__\"):\n",
    "    jogar()"
   ]
  }
 ],
 "metadata": {
  "kernelspec": {
   "display_name": "Python 3",
   "language": "python",
   "name": "python3"
  },
  "language_info": {
   "codemirror_mode": {
    "name": "ipython",
    "version": 3
   },
   "file_extension": ".py",
   "mimetype": "text/x-python",
   "name": "python",
   "nbconvert_exporter": "python",
   "pygments_lexer": "ipython3",
   "version": "3.11.2"
  },
  "orig_nbformat": 4
 },
 "nbformat": 4,
 "nbformat_minor": 2
}
