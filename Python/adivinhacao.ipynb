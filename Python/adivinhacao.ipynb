{
 "cells": [
  {
   "cell_type": "code",
   "execution_count": 1,
   "metadata": {},
   "outputs": [
    {
     "name": "stdout",
     "output_type": "stream",
     "text": [
      "*****************\n",
      "Bem vindo ao jogo de Advinhação\n",
      "*****************\n",
      "Você digitou: 23\n",
      "Você Errou!O valor é menor que o número secreto.\n",
      "Fim do Jogo\n"
     ]
    }
   ],
   "source": [
    "print(\"*****************\")\n",
    "print(\"Bem vindo ao jogo de Adivinhação\")\n",
    "print(\"*****************\")\n",
    "\n",
    "numero_secreto = 42\n",
    "\n",
    "chute_str = input(\"Digite o seu número:\")\n",
    "\n",
    "print(\"Você digitou:\", chute_str)\n",
    "\n",
    "chute = int(chute_str)\n",
    "\n",
    "if(numero_secreto == chute):\n",
    "    print(\"Você Acertou!\")\n",
    "else:\n",
    "    if(chute < numero_secreto):\n",
    "        print(\"Você Errou!O valor é maior que o número secreto.\")\n",
    "    elif(chute > numero_secreto):\n",
    "        print(\"Você Errou!O valor é menor que o número secreto.\")\n",
    "\n",
    "print(\"Fim do Jogo\")"
   ]
  }
 ],
 "metadata": {
  "kernelspec": {
   "display_name": "Python 3",
   "language": "python",
   "name": "python3"
  },
  "language_info": {
   "codemirror_mode": {
    "name": "ipython",
    "version": 3
   },
   "file_extension": ".py",
   "mimetype": "text/x-python",
   "name": "python",
   "nbconvert_exporter": "python",
   "pygments_lexer": "ipython3",
   "version": "3.11.2"
  },
  "orig_nbformat": 4
 },
 "nbformat": 4,
 "nbformat_minor": 2
}
