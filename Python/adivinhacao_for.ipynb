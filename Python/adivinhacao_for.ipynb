{
 "cells": [
  {
   "cell_type": "code",
   "execution_count": 2,
   "metadata": {},
   "outputs": [
    {
     "name": "stdout",
     "output_type": "stream",
     "text": [
      "*****************\n",
      "Bem vindo ao jogo de Advinhação\n",
      "*****************\n",
      "Tentativa 1 de 5\n",
      "Você digitou: 33\n",
      "Você Errou!O valor é maior que o número secreto.\n",
      "Tentativa 2 de 5\n",
      "Você digitou: 50\n",
      "Você Errou!O valor é menor que o número secreto.\n",
      "Tentativa 3 de 5\n",
      "Você digitou: 42\n",
      "Você Acertou!\n",
      "Tentativa 4 de 5\n",
      "Você digitou: \n"
     ]
    },
    {
     "ename": "ValueError",
     "evalue": "invalid literal for int() with base 10: ''",
     "output_type": "error",
     "traceback": [
      "\u001b[1;31m---------------------------------------------------------------------------\u001b[0m",
      "\u001b[1;31mValueError\u001b[0m                                Traceback (most recent call last)",
      "Cell \u001b[1;32mIn[2], line 12\u001b[0m\n\u001b[0;32m     10\u001b[0m chute_str \u001b[39m=\u001b[39m \u001b[39minput\u001b[39m(\u001b[39m\"\u001b[39m\u001b[39mDigite o seu número:\u001b[39m\u001b[39m\"\u001b[39m)\n\u001b[0;32m     11\u001b[0m \u001b[39mprint\u001b[39m(\u001b[39m\"\u001b[39m\u001b[39mVocê digitou:\u001b[39m\u001b[39m\"\u001b[39m, chute_str)\n\u001b[1;32m---> 12\u001b[0m chute \u001b[39m=\u001b[39m \u001b[39mint\u001b[39;49m(chute_str)\n\u001b[0;32m     14\u001b[0m acertou \u001b[39m=\u001b[39m numero_secreto \u001b[39m==\u001b[39m chute\n\u001b[0;32m     15\u001b[0m numero_maior \u001b[39m=\u001b[39m chute \u001b[39m<\u001b[39m numero_secreto\n",
      "\u001b[1;31mValueError\u001b[0m: invalid literal for int() with base 10: ''"
     ]
    }
   ],
   "source": [
    "print(\"*****************\")\n",
    "print(\"Bem vindo ao jogo de Adivinhação\")\n",
    "print(\"*****************\")\n",
    "\n",
    "numero_secreto = 42\n",
    "total_tentativas = 5\n",
    "\n",
    "for rodada in range(1, total_tentativas + 1):\n",
    "    print(\"Tentativa {} de {}\".format(rodada, total_tentativas))\n",
    "    chute_str = input(\"Digite um número entre 1 e 100:\")\n",
    "    print(\"Você digitou:\", chute_str)\n",
    "    chute = int(chute_str)\n",
    "\n",
    "    if(chute < 1 or chute > 100):\n",
    "        print(\"Você deve digitar um número entre 1 e 100.\")\n",
    "        continue\n",
    "    \n",
    "    acertou = numero_secreto == chute\n",
    "    numero_maior = chute < numero_secreto\n",
    "    numero_menor = chute > numero_secreto\n",
    "\n",
    "    if(acertou):\n",
    "        print(\"Você Acertou!\")\n",
    "        break\n",
    "    else:\n",
    "        if(numero_maior):\n",
    "            print(\"Você Errou!O valor é maior que o número secreto.\")\n",
    "        elif(numero_menor):\n",
    "            print(\"Você Errou!O valor é menor que o número secreto.\")\n",
    "\n",
    "print(\"Fim do Jogo\")"
   ]
  }
 ],
 "metadata": {
  "kernelspec": {
   "display_name": "Python 3",
   "language": "python",
   "name": "python3"
  },
  "language_info": {
   "codemirror_mode": {
    "name": "ipython",
    "version": 3
   },
   "file_extension": ".py",
   "mimetype": "text/x-python",
   "name": "python",
   "nbconvert_exporter": "python",
   "pygments_lexer": "ipython3",
   "version": "3.11.2"
  },
  "orig_nbformat": 4
 },
 "nbformat": 4,
 "nbformat_minor": 2
}
