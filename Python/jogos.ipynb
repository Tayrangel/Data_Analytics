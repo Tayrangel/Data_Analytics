{
 "cells": [
  {
   "cell_type": "code",
   "execution_count": 1,
   "metadata": {},
   "outputs": [
    {
     "name": "stdout",
     "output_type": "stream",
     "text": [
      "*****************\n",
      "Escolhe seu jogo!\n",
      "*****************\n",
      "(1) Forca (2) Adivinhação\n",
      "Jogado adivinhação\n",
      "*****************\n",
      "Bem vindo ao jogo de Adivinhação\n",
      "*****************\n",
      "Qual nível de dificuldade?\n",
      "(1) Fácil (2) Médio (3) Difícil\n",
      "Tentativa 1 de 5\n",
      "Você digitou: 50\n",
      "Você Errou!O valor é menor que o número secreto.\n",
      "Tentativa 2 de 5\n",
      "Você digitou: 50\n",
      "Você Errou!O valor é menor que o número secreto.\n",
      "Tentativa 3 de 5\n",
      "Você digitou: 25\n",
      "Você Errou!O valor é maior que o número secreto.\n",
      "Tentativa 4 de 5\n",
      "Você digitou: 30\n",
      "Você Errou!O valor é maior que o número secreto.\n",
      "Tentativa 5 de 5\n",
      "Você digitou: 35\n",
      "Você Errou!O valor é menor que o número secreto.\n",
      "Fim do Jogo\n"
     ]
    }
   ],
   "source": [
    "import forca\n",
    "import adivinhacao_nivel_pont\n",
    "\n",
    "def escolher_jogo():\n",
    "    print(\"*****************\")\n",
    "    print(\"Escolhe seu jogo!\")\n",
    "    print(\"*****************\")\n",
    "\n",
    "    print (\"(1) Forca (2) Adivinhação\")\n",
    "\n",
    "    jogo = int(input(\"Qual jogo?\"))\n",
    "\n",
    "    if (jogo == 1):\n",
    "        print(\"Jogando forca\")\n",
    "        forca.jogar()\n",
    "    elif(jogo == 2):\n",
    "        print(\"Jogado adivinhação\")\n",
    "        adivinhacao_nivel_pont.jogar()\n",
    "\n",
    "if(__name__ == \"__main__\"):\n",
    "    escolher_jogo()"
   ]
  }
 ],
 "metadata": {
  "kernelspec": {
   "display_name": "Python 3",
   "language": "python",
   "name": "python3"
  },
  "language_info": {
   "codemirror_mode": {
    "name": "ipython",
    "version": 3
   },
   "file_extension": ".py",
   "mimetype": "text/x-python",
   "name": "python",
   "nbconvert_exporter": "python",
   "pygments_lexer": "ipython3",
   "version": "3.11.2"
  },
  "orig_nbformat": 4
 },
 "nbformat": 4,
 "nbformat_minor": 2
}
